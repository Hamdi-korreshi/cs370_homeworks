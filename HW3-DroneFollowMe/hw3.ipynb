{
 "cells": [
  {
   "cell_type": "code",
   "execution_count": null,
   "metadata": {},
   "outputs": [],
   "source": [
    "import numpy as np\n",
    "import pandas as pd\n",
    "from filterpy.kalman import KalmanFilter\n",
    "from filterpy.common import Q_discrete_white_noise\n",
    "\n",
    "def smooth_border_boxes(df):\n",
    "    noise=1\n",
    "    Q=0.0001\n",
    "    fk = KalmanFilter(dim_x=4, dim_z=4)  # 4-dimensional state and measurement\n",
    "\n",
    "    # Extract the first bbox info as the initial state estimate\n",
    "    first_bbox = df['bbox info'].iloc[0]\n",
    "    print(first_bbox)\n",
    "    fk.x = np.array([first_bbox['x1'], first_bbox['y1'], first_bbox['x2'], first_bbox['y2']])\n",
    "\n",
    "    fk.F = np.eye(4)  # State transition matrix\n",
    "    fk.H = np.eye(4)  # Measurement function\n",
    "    fk.P *= 10.       # Covariance matrix\n",
    "    fk.R = np.eye(4) * noise  # Measurement noise\n",
    "    fk.Q = Q_discrete_white_noise(dim=2, dt=1., var=Q, block_size=2)  # Process noise\n",
    "\n",
    "    smoothed_boxes = []\n",
    "\n",
    "    for index, row in df.iterrows():\n",
    "        bbox = row['bbox info']\n",
    "        z = np.array([bbox['x1'], bbox['y1'], bbox['x2'], bbox['y2']])\n",
    "        fk.predict()\n",
    "        fk.update(z)\n",
    "        smoothed_boxes.append(fk.x.copy())\n",
    "\n",
    "    return smoothed_boxes\n",
    "\n",
    "# Example usage, assuming obj_result is your dataframe and it has a column 'bbox_info' with bbox data as dictionaries\n",
    "# obj_result = pd.DataFrame({\n",
    "#     'bbox_info': [{'x1': 738.0, 'y1': 516.0, 'x2': 796.0, 'y2': 565.0}, ...]  # Add more bbox dictionaries as needed\n",
    "# })\n",
    "smooth_border_boxes(sorted)\n",
    "smoothed_data = smooth_border_boxes(sorted)\n",
    "print(smoothed_data)"
   ]
  },
  {
   "cell_type": "code",
   "execution_count": null,
   "metadata": {},
   "outputs": [],
   "source": [
    "len(smoothed_data)\n",
    "display(sorted)"
   ]
  },
  {
   "cell_type": "code",
   "execution_count": null,
   "metadata": {},
   "outputs": [],
   "source": [
    "from PIL import Image, ImageDraw\n",
    "import os\n",
    "# To draw bounding boxes on the image\n",
    "def draw_boxes(img, index):\n",
    "    draw = ImageDraw.Draw(img)\n",
    "    x1, y1, x2, y2 = smoothed_data[index]\n",
    "    top_left = (x1,y1)\n",
    "    bottom_right = (x2,y2)\n",
    "    draw.rectangle([top_left, bottom_right], outline='yellow', width=1)\n",
    "    img.save(path)\n",
    "\n",
    "# Program start\n",
    "print(os.getcwd())\n",
    "bounding_boxes= []\n",
    "stitching_after = []\n",
    "save_folder = \"Saved\"\n",
    "for index in range(0,749):\n",
    "    file_name = \"Frames/\" + sorted.iloc[index]['vidId'] + \"_\" + str(sorted.iloc[index]['frameNum']).zfill(4) + \".png\"\n",
    "    stitching_after.append(file_name)\n",
    "    path = save_folder + \"/detected_\" + sorted.iloc[index]['vidId'] + \"_\" + str(sorted.iloc[index]['frameNum']).zfill(4) + \".png\"\n",
    "    print(file_name)\n",
    "    img = Image.open(file_name)\n",
    "    draw_boxes(img, index)\n",
    "    img.close()"
   ]
  },
  {
   "cell_type": "code",
   "execution_count": null,
   "metadata": {},
   "outputs": [],
   "source": [
    "str(sorted.iloc[0]['frameNum']).zfill(4)\n",
    "print(smoothed_data[0][0:2])\n",
    "print(smoothed_data[0][2:4])"
   ]
  }
 ],
 "metadata": {
  "language_info": {
   "name": "python"
  }
 },
 "nbformat": 4,
 "nbformat_minor": 2
}
